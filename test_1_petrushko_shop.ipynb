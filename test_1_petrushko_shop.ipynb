{
 "cells": [
  {
   "cell_type": "markdown",
   "metadata": {},
   "source": [
    "## Петрушко Алексей, 8-903-200-7185, apetrushko@yandex.ru\n",
    "\n",
    "## Необходимо ответить на вопросы\n",
    "1. Назовите общую сумму продаж в рублях за июль?\n",
    "2. Какая общая сумма прибыли (продажи-себестоимость) в рублях в октябре?\n",
    "3. Назовите артикул (новый), который в рейтинге продаж (в рублях) был на 5 месте в августе?\n",
    "4. Какой остаток на складе ТОП-10 артикулов по продажам (в рублях) в августе?\n",
    "5. Определите, нормальное ли распределение ‘Продаж, шт’? Вычислите квадратное отклонение выборки, а также в каком диапазоне лежат 95% значений.\n",
    "\tПостройте график распределения количества буквенных размеров ('M', 'L', 'S', 'XL', 'XS', 'XXL', 'XXXL', 'XXS') в выборке\n"
   ]
  },
  {
   "cell_type": "code",
   "execution_count": 1,
   "metadata": {},
   "outputs": [],
   "source": [
    "# загружаем нужные библиотеки для обработки данных\n",
    "\n",
    "import pandas as pd\n",
    "import numpy as np\n",
    "\n",
    "import matplotlib.pyplot as plt           # графики\n",
    "import seaborn as sns"
   ]
  },
  {
   "cell_type": "markdown",
   "metadata": {},
   "source": [
    "**Данные по продажам**"
   ]
  },
  {
   "cell_type": "code",
   "execution_count": 2,
   "metadata": {},
   "outputs": [
    {
     "name": "stdout",
     "output_type": "stream",
     "text": [
      "<class 'pandas.core.frame.DataFrame'>\n",
      "RangeIndex: 60074 entries, 0 to 60073\n",
      "Data columns (total 4 columns):\n",
      "Артикул старый    60074 non-null object\n",
      "Размер            60074 non-null object\n",
      "Месяц             60074 non-null int64\n",
      "Продажи, шт.      60074 non-null int64\n",
      "dtypes: int64(2), object(2)\n",
      "memory usage: 1.8+ MB\n"
     ]
    }
   ],
   "source": [
    "sales_df = pd.read_excel('test_sales_to_share.xlsx')\n",
    "sales_df.info()"
   ]
  },
  {
   "cell_type": "code",
   "execution_count": 3,
   "metadata": {},
   "outputs": [
    {
     "data": {
      "text/html": [
       "<div>\n",
       "<style scoped>\n",
       "    .dataframe tbody tr th:only-of-type {\n",
       "        vertical-align: middle;\n",
       "    }\n",
       "\n",
       "    .dataframe tbody tr th {\n",
       "        vertical-align: top;\n",
       "    }\n",
       "\n",
       "    .dataframe thead th {\n",
       "        text-align: right;\n",
       "    }\n",
       "</style>\n",
       "<table border=\"1\" class=\"dataframe\">\n",
       "  <thead>\n",
       "    <tr style=\"text-align: right;\">\n",
       "      <th></th>\n",
       "      <th>Месяц</th>\n",
       "      <th>Продажи, шт.</th>\n",
       "    </tr>\n",
       "  </thead>\n",
       "  <tbody>\n",
       "    <tr>\n",
       "      <td>count</td>\n",
       "      <td>60074.000000</td>\n",
       "      <td>60074.000000</td>\n",
       "    </tr>\n",
       "    <tr>\n",
       "      <td>mean</td>\n",
       "      <td>9.000000</td>\n",
       "      <td>84.099461</td>\n",
       "    </tr>\n",
       "    <tr>\n",
       "      <td>std</td>\n",
       "      <td>2.000017</td>\n",
       "      <td>19.936633</td>\n",
       "    </tr>\n",
       "    <tr>\n",
       "      <td>min</td>\n",
       "      <td>6.000000</td>\n",
       "      <td>2.000000</td>\n",
       "    </tr>\n",
       "    <tr>\n",
       "      <td>25%</td>\n",
       "      <td>7.000000</td>\n",
       "      <td>71.000000</td>\n",
       "    </tr>\n",
       "    <tr>\n",
       "      <td>50%</td>\n",
       "      <td>9.000000</td>\n",
       "      <td>84.000000</td>\n",
       "    </tr>\n",
       "    <tr>\n",
       "      <td>75%</td>\n",
       "      <td>11.000000</td>\n",
       "      <td>98.000000</td>\n",
       "    </tr>\n",
       "    <tr>\n",
       "      <td>max</td>\n",
       "      <td>12.000000</td>\n",
       "      <td>174.000000</td>\n",
       "    </tr>\n",
       "  </tbody>\n",
       "</table>\n",
       "</div>"
      ],
      "text/plain": [
       "              Месяц  Продажи, шт.\n",
       "count  60074.000000  60074.000000\n",
       "mean       9.000000     84.099461\n",
       "std        2.000017     19.936633\n",
       "min        6.000000      2.000000\n",
       "25%        7.000000     71.000000\n",
       "50%        9.000000     84.000000\n",
       "75%       11.000000     98.000000\n",
       "max       12.000000    174.000000"
      ]
     },
     "execution_count": 3,
     "metadata": {},
     "output_type": "execute_result"
    }
   ],
   "source": [
    "sales_df.describe()"
   ]
  },
  {
   "cell_type": "code",
   "execution_count": 4,
   "metadata": {},
   "outputs": [],
   "source": [
    "# замена названий столбцов\n",
    "sales_df.columns = ['article_old', 'size', 'month', 'sales_in_units' ]"
   ]
  },
  {
   "cell_type": "code",
   "execution_count": 5,
   "metadata": {},
   "outputs": [
    {
     "data": {
      "text/html": [
       "<div>\n",
       "<style scoped>\n",
       "    .dataframe tbody tr th:only-of-type {\n",
       "        vertical-align: middle;\n",
       "    }\n",
       "\n",
       "    .dataframe tbody tr th {\n",
       "        vertical-align: top;\n",
       "    }\n",
       "\n",
       "    .dataframe thead th {\n",
       "        text-align: right;\n",
       "    }\n",
       "</style>\n",
       "<table border=\"1\" class=\"dataframe\">\n",
       "  <thead>\n",
       "    <tr style=\"text-align: right;\">\n",
       "      <th></th>\n",
       "      <th>article_old</th>\n",
       "      <th>size</th>\n",
       "      <th>month</th>\n",
       "      <th>sales_in_units</th>\n",
       "    </tr>\n",
       "  </thead>\n",
       "  <tbody>\n",
       "    <tr>\n",
       "      <td>0</td>\n",
       "      <td>02025727Y052D0/55</td>\n",
       "      <td>XS</td>\n",
       "      <td>9</td>\n",
       "      <td>88</td>\n",
       "    </tr>\n",
       "    <tr>\n",
       "      <td>1</td>\n",
       "      <td>02025727Y052D0/55</td>\n",
       "      <td>S</td>\n",
       "      <td>6</td>\n",
       "      <td>128</td>\n",
       "    </tr>\n",
       "    <tr>\n",
       "      <td>2</td>\n",
       "      <td>020245D5Z022/55D0</td>\n",
       "      <td>M</td>\n",
       "      <td>7</td>\n",
       "      <td>83</td>\n",
       "    </tr>\n",
       "    <tr>\n",
       "      <td>3</td>\n",
       "      <td>020245D5Z022/55D0</td>\n",
       "      <td>M</td>\n",
       "      <td>9</td>\n",
       "      <td>68</td>\n",
       "    </tr>\n",
       "    <tr>\n",
       "      <td>4</td>\n",
       "      <td>020245D5Z022/55D0</td>\n",
       "      <td>L</td>\n",
       "      <td>6</td>\n",
       "      <td>74</td>\n",
       "    </tr>\n",
       "  </tbody>\n",
       "</table>\n",
       "</div>"
      ],
      "text/plain": [
       "         article_old size  month  sales_in_units\n",
       "0  02025727Y052D0/55   XS      9              88\n",
       "1  02025727Y052D0/55    S      6             128\n",
       "2  020245D5Z022/55D0    M      7              83\n",
       "3  020245D5Z022/55D0    M      9              68\n",
       "4  020245D5Z022/55D0    L      6              74"
      ]
     },
     "execution_count": 5,
     "metadata": {},
     "output_type": "execute_result"
    }
   ],
   "source": [
    "sales_df.head()"
   ]
  },
  {
   "cell_type": "code",
   "execution_count": 6,
   "metadata": {},
   "outputs": [
    {
     "data": {
      "text/plain": [
       "array(['02025727Y052D0/55', '020245D5Z022/55D0', '02025727Y052D0/50', ...,\n",
       "       '92011945969500/31', '21014942301500/50', '32014947Q56500/11'],\n",
       "      dtype=object)"
      ]
     },
     "execution_count": 6,
     "metadata": {},
     "output_type": "execute_result"
    }
   ],
   "source": [
    "sales_df.article_old.unique()"
   ]
  },
  {
   "cell_type": "code",
   "execution_count": 7,
   "metadata": {},
   "outputs": [
    {
     "data": {
      "text/plain": [
       "array(['XS', 'S', 'M', 'L', 'XXXL', 'XXL', '28', 'XL', '34', 'XXS', '29',\n",
       "       '30', '31', '4XL', '26', '33', '27', '32', '38', '0', '25', '36',\n",
       "       '40', '35', '54-58', '37'], dtype=object)"
      ]
     },
     "execution_count": 7,
     "metadata": {},
     "output_type": "execute_result"
    }
   ],
   "source": [
    "sales_df['size'].unique()"
   ]
  },
  {
   "cell_type": "code",
   "execution_count": 8,
   "metadata": {},
   "outputs": [],
   "source": [
    "# сначала переставим местами пары в артикулах где слэш был на 15 позиции и удалим слэш\n",
    "sales_df['article_new'] = sales_df['article_old'].replace(\n",
    "                                    r'(\\w\\w)(\\w\\w)(\\w\\w)(\\w\\w)(\\w\\w)(\\w\\w)(\\w\\w)/(\\w\\w)', r'\\1\\2\\3\\4\\5\\6\\8\\7', regex=True)"
   ]
  },
  {
   "cell_type": "code",
   "execution_count": 9,
   "metadata": {},
   "outputs": [],
   "source": [
    "sales_df['article_new'] = sales_df['article_new'].str.replace('/', '')"
   ]
  },
  {
   "cell_type": "code",
   "execution_count": 10,
   "metadata": {},
   "outputs": [
    {
     "data": {
      "text/html": [
       "<div>\n",
       "<style scoped>\n",
       "    .dataframe tbody tr th:only-of-type {\n",
       "        vertical-align: middle;\n",
       "    }\n",
       "\n",
       "    .dataframe tbody tr th {\n",
       "        vertical-align: top;\n",
       "    }\n",
       "\n",
       "    .dataframe thead th {\n",
       "        text-align: right;\n",
       "    }\n",
       "</style>\n",
       "<table border=\"1\" class=\"dataframe\">\n",
       "  <thead>\n",
       "    <tr style=\"text-align: right;\">\n",
       "      <th></th>\n",
       "      <th>article_old</th>\n",
       "      <th>size</th>\n",
       "      <th>month</th>\n",
       "      <th>sales_in_units</th>\n",
       "      <th>article_new</th>\n",
       "    </tr>\n",
       "  </thead>\n",
       "  <tbody>\n",
       "    <tr>\n",
       "      <td>0</td>\n",
       "      <td>02025727Y052D0/55</td>\n",
       "      <td>XS</td>\n",
       "      <td>9</td>\n",
       "      <td>88</td>\n",
       "      <td>02025727Y05255D0</td>\n",
       "    </tr>\n",
       "    <tr>\n",
       "      <td>1</td>\n",
       "      <td>02025727Y052D0/55</td>\n",
       "      <td>S</td>\n",
       "      <td>6</td>\n",
       "      <td>128</td>\n",
       "      <td>02025727Y05255D0</td>\n",
       "    </tr>\n",
       "    <tr>\n",
       "      <td>2</td>\n",
       "      <td>020245D5Z022/55D0</td>\n",
       "      <td>M</td>\n",
       "      <td>7</td>\n",
       "      <td>83</td>\n",
       "      <td>020245D5Z02255D0</td>\n",
       "    </tr>\n",
       "    <tr>\n",
       "      <td>3</td>\n",
       "      <td>020245D5Z022/55D0</td>\n",
       "      <td>M</td>\n",
       "      <td>9</td>\n",
       "      <td>68</td>\n",
       "      <td>020245D5Z02255D0</td>\n",
       "    </tr>\n",
       "    <tr>\n",
       "      <td>4</td>\n",
       "      <td>020245D5Z022/55D0</td>\n",
       "      <td>L</td>\n",
       "      <td>6</td>\n",
       "      <td>74</td>\n",
       "      <td>020245D5Z02255D0</td>\n",
       "    </tr>\n",
       "  </tbody>\n",
       "</table>\n",
       "</div>"
      ],
      "text/plain": [
       "         article_old size  month  sales_in_units       article_new\n",
       "0  02025727Y052D0/55   XS      9              88  02025727Y05255D0\n",
       "1  02025727Y052D0/55    S      6             128  02025727Y05255D0\n",
       "2  020245D5Z022/55D0    M      7              83  020245D5Z02255D0\n",
       "3  020245D5Z022/55D0    M      9              68  020245D5Z02255D0\n",
       "4  020245D5Z022/55D0    L      6              74  020245D5Z02255D0"
      ]
     },
     "execution_count": 10,
     "metadata": {},
     "output_type": "execute_result"
    }
   ],
   "source": [
    "sales_df.head()"
   ]
  },
  {
   "cell_type": "code",
   "execution_count": 11,
   "metadata": {},
   "outputs": [
    {
     "name": "stdout",
     "output_type": "stream",
     "text": [
      "article_old - 0.00%\n",
      "size - 0.00%\n",
      "month - 0.00%\n",
      "sales_in_units - 0.00%\n",
      "article_new - 0.00%\n"
     ]
    }
   ],
   "source": [
    "#проверяем пропущенные значения\n",
    "for col in sales_df.columns:\n",
    "    pct_missing = np.mean(sales_df[col].isnull())\n",
    "    print('{} - {:.2%}'.format(col, pct_missing))"
   ]
  },
  {
   "cell_type": "markdown",
   "metadata": {},
   "source": [
    "**Данные по остаткам**"
   ]
  },
  {
   "cell_type": "code",
   "execution_count": 12,
   "metadata": {
    "scrolled": true
   },
   "outputs": [
    {
     "name": "stdout",
     "output_type": "stream",
     "text": [
      "<class 'pandas.core.frame.DataFrame'>\n",
      "RangeIndex: 10328 entries, 0 to 10327\n",
      "Data columns (total 5 columns):\n",
      "Артикул новый             10328 non-null object\n",
      "Размер                    10328 non-null object\n",
      "Остаток на складе, шт.    10328 non-null int64\n",
      "Себестоимость, руб.       10328 non-null int64\n",
      "Цена продажи, руб.        10328 non-null int64\n",
      "dtypes: int64(3), object(2)\n",
      "memory usage: 403.6+ KB\n"
     ]
    }
   ],
   "source": [
    "remains_df = pd.read_excel('test_remains_to_share.xlsx')\n",
    "remains_df.info()"
   ]
  },
  {
   "cell_type": "code",
   "execution_count": 13,
   "metadata": {},
   "outputs": [
    {
     "data": {
      "text/html": [
       "<div>\n",
       "<style scoped>\n",
       "    .dataframe tbody tr th:only-of-type {\n",
       "        vertical-align: middle;\n",
       "    }\n",
       "\n",
       "    .dataframe tbody tr th {\n",
       "        vertical-align: top;\n",
       "    }\n",
       "\n",
       "    .dataframe thead th {\n",
       "        text-align: right;\n",
       "    }\n",
       "</style>\n",
       "<table border=\"1\" class=\"dataframe\">\n",
       "  <thead>\n",
       "    <tr style=\"text-align: right;\">\n",
       "      <th></th>\n",
       "      <th>Остаток на складе, шт.</th>\n",
       "      <th>Себестоимость, руб.</th>\n",
       "      <th>Цена продажи, руб.</th>\n",
       "    </tr>\n",
       "  </thead>\n",
       "  <tbody>\n",
       "    <tr>\n",
       "      <td>count</td>\n",
       "      <td>10328.000000</td>\n",
       "      <td>10328.000000</td>\n",
       "      <td>10328.000000</td>\n",
       "    </tr>\n",
       "    <tr>\n",
       "      <td>mean</td>\n",
       "      <td>509.839659</td>\n",
       "      <td>906.827266</td>\n",
       "      <td>2268.340143</td>\n",
       "    </tr>\n",
       "    <tr>\n",
       "      <td>std</td>\n",
       "      <td>687.406540</td>\n",
       "      <td>346.132832</td>\n",
       "      <td>909.251717</td>\n",
       "    </tr>\n",
       "    <tr>\n",
       "      <td>min</td>\n",
       "      <td>1.000000</td>\n",
       "      <td>300.000000</td>\n",
       "      <td>602.000000</td>\n",
       "    </tr>\n",
       "    <tr>\n",
       "      <td>25%</td>\n",
       "      <td>121.000000</td>\n",
       "      <td>607.000000</td>\n",
       "      <td>1498.000000</td>\n",
       "    </tr>\n",
       "    <tr>\n",
       "      <td>50%</td>\n",
       "      <td>298.000000</td>\n",
       "      <td>911.000000</td>\n",
       "      <td>2249.000000</td>\n",
       "    </tr>\n",
       "    <tr>\n",
       "      <td>75%</td>\n",
       "      <td>635.000000</td>\n",
       "      <td>1208.000000</td>\n",
       "      <td>2969.000000</td>\n",
       "    </tr>\n",
       "    <tr>\n",
       "      <td>max</td>\n",
       "      <td>9610.000000</td>\n",
       "      <td>1500.000000</td>\n",
       "      <td>4476.000000</td>\n",
       "    </tr>\n",
       "  </tbody>\n",
       "</table>\n",
       "</div>"
      ],
      "text/plain": [
       "       Остаток на складе, шт.  Себестоимость, руб.  Цена продажи, руб.\n",
       "count            10328.000000         10328.000000        10328.000000\n",
       "mean               509.839659           906.827266         2268.340143\n",
       "std                687.406540           346.132832          909.251717\n",
       "min                  1.000000           300.000000          602.000000\n",
       "25%                121.000000           607.000000         1498.000000\n",
       "50%                298.000000           911.000000         2249.000000\n",
       "75%                635.000000          1208.000000         2969.000000\n",
       "max               9610.000000          1500.000000         4476.000000"
      ]
     },
     "execution_count": 13,
     "metadata": {},
     "output_type": "execute_result"
    }
   ],
   "source": [
    "remains_df.describe()"
   ]
  },
  {
   "cell_type": "code",
   "execution_count": 14,
   "metadata": {},
   "outputs": [
    {
     "data": {
      "text/html": [
       "<div>\n",
       "<style scoped>\n",
       "    .dataframe tbody tr th:only-of-type {\n",
       "        vertical-align: middle;\n",
       "    }\n",
       "\n",
       "    .dataframe tbody tr th {\n",
       "        vertical-align: top;\n",
       "    }\n",
       "\n",
       "    .dataframe thead th {\n",
       "        text-align: right;\n",
       "    }\n",
       "</style>\n",
       "<table border=\"1\" class=\"dataframe\">\n",
       "  <thead>\n",
       "    <tr style=\"text-align: right;\">\n",
       "      <th></th>\n",
       "      <th>article_new</th>\n",
       "      <th>size</th>\n",
       "      <th>stock_balance_in_units</th>\n",
       "      <th>cost_price_rub</th>\n",
       "      <th>price_rub</th>\n",
       "    </tr>\n",
       "  </thead>\n",
       "  <tbody>\n",
       "    <tr>\n",
       "      <td>0</td>\n",
       "      <td>010112159012 0100                             ...</td>\n",
       "      <td>M</td>\n",
       "      <td>118</td>\n",
       "      <td>1211</td>\n",
       "      <td>2846</td>\n",
       "    </tr>\n",
       "    <tr>\n",
       "      <td>1</td>\n",
       "      <td>010112159052 01P0                             ...</td>\n",
       "      <td>L</td>\n",
       "      <td>247</td>\n",
       "      <td>465</td>\n",
       "      <td>1311</td>\n",
       "    </tr>\n",
       "    <tr>\n",
       "      <td>2</td>\n",
       "      <td>010112159052 01P0                             ...</td>\n",
       "      <td>M</td>\n",
       "      <td>134</td>\n",
       "      <td>763</td>\n",
       "      <td>1564</td>\n",
       "    </tr>\n",
       "    <tr>\n",
       "      <td>3</td>\n",
       "      <td>010112159052 01P0                             ...</td>\n",
       "      <td>S</td>\n",
       "      <td>93</td>\n",
       "      <td>762</td>\n",
       "      <td>1631</td>\n",
       "    </tr>\n",
       "    <tr>\n",
       "      <td>4</td>\n",
       "      <td>010112159052 58P0                             ...</td>\n",
       "      <td>XXL</td>\n",
       "      <td>20</td>\n",
       "      <td>342</td>\n",
       "      <td>698</td>\n",
       "    </tr>\n",
       "  </tbody>\n",
       "</table>\n",
       "</div>"
      ],
      "text/plain": [
       "                                         article_new  \\\n",
       "0  010112159012 0100                             ...   \n",
       "1  010112159052 01P0                             ...   \n",
       "2  010112159052 01P0                             ...   \n",
       "3  010112159052 01P0                             ...   \n",
       "4  010112159052 58P0                             ...   \n",
       "\n",
       "                        size  stock_balance_in_units  cost_price_rub  \\\n",
       "0  M                                             118            1211   \n",
       "1  L                                             247             465   \n",
       "2  M                                             134             763   \n",
       "3  S                                              93             762   \n",
       "4  XXL                                            20             342   \n",
       "\n",
       "   price_rub  \n",
       "0       2846  \n",
       "1       1311  \n",
       "2       1564  \n",
       "3       1631  \n",
       "4        698  "
      ]
     },
     "execution_count": 14,
     "metadata": {},
     "output_type": "execute_result"
    }
   ],
   "source": [
    "# замена названий столбцов\n",
    "remains_df.columns = ['article_new', 'size', 'stock_balance_in_units', 'cost_price_rub', 'price_rub' ]\n",
    "remains_df.head()"
   ]
  },
  {
   "cell_type": "code",
   "execution_count": 15,
   "metadata": {},
   "outputs": [
    {
     "data": {
      "text/plain": [
       "array(['010112159012 0100                                 ',\n",
       "       '010112159052 01P0                                 ',\n",
       "       '010112159052 58P0                                 ', ...,\n",
       "       '920239I62175 0300                                 ',\n",
       "       '920239I8G025 0200                                 ',\n",
       "       '920239I8G155 3000                                 '], dtype=object)"
      ]
     },
     "execution_count": 15,
     "metadata": {},
     "output_type": "execute_result"
    }
   ],
   "source": [
    "remains_df.article_new.unique()"
   ]
  },
  {
   "cell_type": "code",
   "execution_count": 16,
   "metadata": {},
   "outputs": [
    {
     "data": {
      "text/plain": [
       "array(['0101121590120100', '01011215905201P0', '01011215905258P0', ...,\n",
       "       '920239I621750300', '920239I8G0250200', '920239I8G1553000'],\n",
       "      dtype=object)"
      ]
     },
     "execution_count": 16,
     "metadata": {},
     "output_type": "execute_result"
    }
   ],
   "source": [
    "remains_df.article_new = remains_df.article_new.replace(r'\\s+','', regex=True)\n",
    "remains_df.article_new.unique()"
   ]
  },
  {
   "cell_type": "code",
   "execution_count": 17,
   "metadata": {},
   "outputs": [
    {
     "data": {
      "text/plain": [
       "array(['M                        ', 'L                        ',\n",
       "       'S                        ', 'XXL                      ',\n",
       "       'XL                       ', '54-58                    ',\n",
       "       'XXXL                     ', 'no size                  ',\n",
       "       '25-27                    ', '27-29                    ',\n",
       "       '34                       ', '31                       ',\n",
       "       '36                       ', '38                       ',\n",
       "       '30                       ', '32                       ',\n",
       "       '33                       ', 'XS                       ',\n",
       "       '4XL                      ', '40                       ',\n",
       "       '28                       ', '41                       ',\n",
       "       '42                       ', '43                       ',\n",
       "       '44                       ', 'XXS                      ',\n",
       "       '23-25                    ', '37                       ',\n",
       "       '39                       ', '25                       ',\n",
       "       '26                       ', '29                       ',\n",
       "       '27                       ', '75B                      ',\n",
       "       '75C                      ', '80B                      ',\n",
       "       '80C                      ', '85C                      ',\n",
       "       '35                       ', 'S/M                      '],\n",
       "      dtype=object)"
      ]
     },
     "execution_count": 17,
     "metadata": {},
     "output_type": "execute_result"
    }
   ],
   "source": [
    "remains_df['size'].unique()"
   ]
  },
  {
   "cell_type": "code",
   "execution_count": 18,
   "metadata": {},
   "outputs": [
    {
     "data": {
      "text/plain": [
       "array(['M', 'L', 'S', 'XXL', 'XL', '54-58', 'XXXL', 'no_size', '25-27',\n",
       "       '27-29', '34', '31', '36', '38', '30', '32', '33', 'XS', '4XL',\n",
       "       '40', '28', '41', '42', '43', '44', 'XXS', '23-25', '37', '39',\n",
       "       '25', '26', '29', '27', '75B', '75C', '80B', '80C', '85C', '35',\n",
       "       'S/M'], dtype=object)"
      ]
     },
     "execution_count": 18,
     "metadata": {},
     "output_type": "execute_result"
    }
   ],
   "source": [
    "remains_df['size'].replace(r'\\s+','', regex=True, inplace=True)\n",
    "remains_df['size'].replace('nosize','no_size', inplace=True)\n",
    "remains_df['size'].unique()"
   ]
  },
  {
   "cell_type": "code",
   "execution_count": 19,
   "metadata": {
    "scrolled": true
   },
   "outputs": [
    {
     "name": "stdout",
     "output_type": "stream",
     "text": [
      "article_new - 0.00%\n",
      "size - 0.00%\n",
      "stock_balance_in_units - 0.00%\n",
      "cost_price_rub - 0.00%\n",
      "price_rub - 0.00%\n"
     ]
    }
   ],
   "source": [
    "#проверяем пропущенные значения\n",
    "for col in remains_df.columns:\n",
    "    pct_missing = np.mean(remains_df[col].isnull())\n",
    "    print('{} - {:.2%}'.format(col, pct_missing))"
   ]
  },
  {
   "cell_type": "code",
   "execution_count": 20,
   "metadata": {},
   "outputs": [
    {
     "data": {
      "text/html": [
       "<div>\n",
       "<style scoped>\n",
       "    .dataframe tbody tr th:only-of-type {\n",
       "        vertical-align: middle;\n",
       "    }\n",
       "\n",
       "    .dataframe tbody tr th {\n",
       "        vertical-align: top;\n",
       "    }\n",
       "\n",
       "    .dataframe thead th {\n",
       "        text-align: right;\n",
       "    }\n",
       "</style>\n",
       "<table border=\"1\" class=\"dataframe\">\n",
       "  <thead>\n",
       "    <tr style=\"text-align: right;\">\n",
       "      <th></th>\n",
       "      <th>article_new</th>\n",
       "      <th>size</th>\n",
       "      <th>stock_balance_in_units</th>\n",
       "      <th>cost_price_rub</th>\n",
       "      <th>price_rub</th>\n",
       "    </tr>\n",
       "  </thead>\n",
       "  <tbody>\n",
       "    <tr>\n",
       "      <td>0</td>\n",
       "      <td>0101121590120100</td>\n",
       "      <td>M</td>\n",
       "      <td>118</td>\n",
       "      <td>1211</td>\n",
       "      <td>2846</td>\n",
       "    </tr>\n",
       "    <tr>\n",
       "      <td>1</td>\n",
       "      <td>01011215905201P0</td>\n",
       "      <td>L</td>\n",
       "      <td>247</td>\n",
       "      <td>465</td>\n",
       "      <td>1311</td>\n",
       "    </tr>\n",
       "    <tr>\n",
       "      <td>2</td>\n",
       "      <td>01011215905201P0</td>\n",
       "      <td>M</td>\n",
       "      <td>134</td>\n",
       "      <td>763</td>\n",
       "      <td>1564</td>\n",
       "    </tr>\n",
       "    <tr>\n",
       "      <td>3</td>\n",
       "      <td>01011215905201P0</td>\n",
       "      <td>S</td>\n",
       "      <td>93</td>\n",
       "      <td>762</td>\n",
       "      <td>1631</td>\n",
       "    </tr>\n",
       "    <tr>\n",
       "      <td>4</td>\n",
       "      <td>01011215905258P0</td>\n",
       "      <td>XXL</td>\n",
       "      <td>20</td>\n",
       "      <td>342</td>\n",
       "      <td>698</td>\n",
       "    </tr>\n",
       "  </tbody>\n",
       "</table>\n",
       "</div>"
      ],
      "text/plain": [
       "        article_new size  stock_balance_in_units  cost_price_rub  price_rub\n",
       "0  0101121590120100    M                     118            1211       2846\n",
       "1  01011215905201P0    L                     247             465       1311\n",
       "2  01011215905201P0    M                     134             763       1564\n",
       "3  01011215905201P0    S                      93             762       1631\n",
       "4  01011215905258P0  XXL                      20             342        698"
      ]
     },
     "execution_count": 20,
     "metadata": {},
     "output_type": "execute_result"
    }
   ],
   "source": [
    "remains_df.head()"
   ]
  },
  {
   "cell_type": "markdown",
   "metadata": {},
   "source": [
    "Подготовим данные для расчетов"
   ]
  },
  {
   "cell_type": "code",
   "execution_count": 21,
   "metadata": {},
   "outputs": [
    {
     "data": {
      "text/html": [
       "<div>\n",
       "<style scoped>\n",
       "    .dataframe tbody tr th:only-of-type {\n",
       "        vertical-align: middle;\n",
       "    }\n",
       "\n",
       "    .dataframe tbody tr th {\n",
       "        vertical-align: top;\n",
       "    }\n",
       "\n",
       "    .dataframe thead th {\n",
       "        text-align: right;\n",
       "    }\n",
       "</style>\n",
       "<table border=\"1\" class=\"dataframe\">\n",
       "  <thead>\n",
       "    <tr style=\"text-align: right;\">\n",
       "      <th></th>\n",
       "      <th>article_old</th>\n",
       "      <th>size</th>\n",
       "      <th>month</th>\n",
       "      <th>sales_in_units</th>\n",
       "      <th>article_new</th>\n",
       "    </tr>\n",
       "  </thead>\n",
       "  <tbody>\n",
       "    <tr>\n",
       "      <td>0</td>\n",
       "      <td>02025727Y052D0/55</td>\n",
       "      <td>XS</td>\n",
       "      <td>9</td>\n",
       "      <td>88</td>\n",
       "      <td>02025727Y05255D0</td>\n",
       "    </tr>\n",
       "    <tr>\n",
       "      <td>1</td>\n",
       "      <td>02025727Y052D0/55</td>\n",
       "      <td>S</td>\n",
       "      <td>6</td>\n",
       "      <td>128</td>\n",
       "      <td>02025727Y05255D0</td>\n",
       "    </tr>\n",
       "    <tr>\n",
       "      <td>2</td>\n",
       "      <td>020245D5Z022/55D0</td>\n",
       "      <td>M</td>\n",
       "      <td>7</td>\n",
       "      <td>83</td>\n",
       "      <td>020245D5Z02255D0</td>\n",
       "    </tr>\n",
       "    <tr>\n",
       "      <td>3</td>\n",
       "      <td>020245D5Z022/55D0</td>\n",
       "      <td>M</td>\n",
       "      <td>9</td>\n",
       "      <td>68</td>\n",
       "      <td>020245D5Z02255D0</td>\n",
       "    </tr>\n",
       "    <tr>\n",
       "      <td>4</td>\n",
       "      <td>020245D5Z022/55D0</td>\n",
       "      <td>L</td>\n",
       "      <td>6</td>\n",
       "      <td>74</td>\n",
       "      <td>020245D5Z02255D0</td>\n",
       "    </tr>\n",
       "  </tbody>\n",
       "</table>\n",
       "</div>"
      ],
      "text/plain": [
       "         article_old size  month  sales_in_units       article_new\n",
       "0  02025727Y052D0/55   XS      9              88  02025727Y05255D0\n",
       "1  02025727Y052D0/55    S      6             128  02025727Y05255D0\n",
       "2  020245D5Z022/55D0    M      7              83  020245D5Z02255D0\n",
       "3  020245D5Z022/55D0    M      9              68  020245D5Z02255D0\n",
       "4  020245D5Z022/55D0    L      6              74  020245D5Z02255D0"
      ]
     },
     "execution_count": 21,
     "metadata": {},
     "output_type": "execute_result"
    }
   ],
   "source": [
    "sales_df.head()"
   ]
  },
  {
   "cell_type": "code",
   "execution_count": 22,
   "metadata": {},
   "outputs": [
    {
     "data": {
      "text/html": [
       "<div>\n",
       "<style scoped>\n",
       "    .dataframe tbody tr th:only-of-type {\n",
       "        vertical-align: middle;\n",
       "    }\n",
       "\n",
       "    .dataframe tbody tr th {\n",
       "        vertical-align: top;\n",
       "    }\n",
       "\n",
       "    .dataframe thead th {\n",
       "        text-align: right;\n",
       "    }\n",
       "</style>\n",
       "<table border=\"1\" class=\"dataframe\">\n",
       "  <thead>\n",
       "    <tr style=\"text-align: right;\">\n",
       "      <th></th>\n",
       "      <th>article_old</th>\n",
       "      <th>size</th>\n",
       "      <th>month</th>\n",
       "      <th>sales_in_units</th>\n",
       "      <th>article_new</th>\n",
       "      <th>stock_balance_in_units</th>\n",
       "      <th>cost_price_rub</th>\n",
       "      <th>price_rub</th>\n",
       "    </tr>\n",
       "  </thead>\n",
       "  <tbody>\n",
       "    <tr>\n",
       "      <td>0</td>\n",
       "      <td>02025727Y052D0/55</td>\n",
       "      <td>XS</td>\n",
       "      <td>9</td>\n",
       "      <td>88</td>\n",
       "      <td>02025727Y05255D0</td>\n",
       "      <td>945.0</td>\n",
       "      <td>564.0</td>\n",
       "      <td>1258.0</td>\n",
       "    </tr>\n",
       "    <tr>\n",
       "      <td>1</td>\n",
       "      <td>02025727Y052D0/55</td>\n",
       "      <td>S</td>\n",
       "      <td>6</td>\n",
       "      <td>128</td>\n",
       "      <td>02025727Y05255D0</td>\n",
       "      <td>861.0</td>\n",
       "      <td>539.0</td>\n",
       "      <td>1471.0</td>\n",
       "    </tr>\n",
       "    <tr>\n",
       "      <td>2</td>\n",
       "      <td>020245D5Z022/55D0</td>\n",
       "      <td>M</td>\n",
       "      <td>7</td>\n",
       "      <td>83</td>\n",
       "      <td>020245D5Z02255D0</td>\n",
       "      <td>1001.0</td>\n",
       "      <td>1057.0</td>\n",
       "      <td>2526.0</td>\n",
       "    </tr>\n",
       "    <tr>\n",
       "      <td>3</td>\n",
       "      <td>020245D5Z022/55D0</td>\n",
       "      <td>M</td>\n",
       "      <td>9</td>\n",
       "      <td>68</td>\n",
       "      <td>020245D5Z02255D0</td>\n",
       "      <td>1001.0</td>\n",
       "      <td>1057.0</td>\n",
       "      <td>2526.0</td>\n",
       "    </tr>\n",
       "    <tr>\n",
       "      <td>4</td>\n",
       "      <td>020245D5Z022/55D0</td>\n",
       "      <td>L</td>\n",
       "      <td>6</td>\n",
       "      <td>74</td>\n",
       "      <td>020245D5Z02255D0</td>\n",
       "      <td>623.0</td>\n",
       "      <td>1330.0</td>\n",
       "      <td>3844.0</td>\n",
       "    </tr>\n",
       "  </tbody>\n",
       "</table>\n",
       "</div>"
      ],
      "text/plain": [
       "         article_old size  month  sales_in_units       article_new  \\\n",
       "0  02025727Y052D0/55   XS      9              88  02025727Y05255D0   \n",
       "1  02025727Y052D0/55    S      6             128  02025727Y05255D0   \n",
       "2  020245D5Z022/55D0    M      7              83  020245D5Z02255D0   \n",
       "3  020245D5Z022/55D0    M      9              68  020245D5Z02255D0   \n",
       "4  020245D5Z022/55D0    L      6              74  020245D5Z02255D0   \n",
       "\n",
       "   stock_balance_in_units  cost_price_rub  price_rub  \n",
       "0                   945.0           564.0     1258.0  \n",
       "1                   861.0           539.0     1471.0  \n",
       "2                  1001.0          1057.0     2526.0  \n",
       "3                  1001.0          1057.0     2526.0  \n",
       "4                   623.0          1330.0     3844.0  "
      ]
     },
     "execution_count": 22,
     "metadata": {},
     "output_type": "execute_result"
    }
   ],
   "source": [
    "# добавим данные о стоимости \n",
    "sales_df = pd.merge(sales_df, remains_df, how='left', on=['article_new', 'size'])\n",
    "sales_df.head()"
   ]
  },
  {
   "cell_type": "code",
   "execution_count": 23,
   "metadata": {},
   "outputs": [
    {
     "data": {
      "text/plain": [
       "(60074, 8)"
      ]
     },
     "execution_count": 23,
     "metadata": {},
     "output_type": "execute_result"
    }
   ],
   "source": [
    "sales_df.shape # проверим размер таблицы "
   ]
  },
  {
   "cell_type": "code",
   "execution_count": 24,
   "metadata": {},
   "outputs": [],
   "source": [
    "# сумма продаж\n",
    "sales_df['total_revenue'] = sales_df['price_rub'] * sales_df['sales_in_units']\n",
    "\n",
    "# прибыль с продаж \n",
    "sales_df['profit'] = (sales_df['price_rub'] - sales_df['cost_price_rub']) * sales_df['sales_in_units']"
   ]
  },
  {
   "cell_type": "code",
   "execution_count": 25,
   "metadata": {},
   "outputs": [
    {
     "data": {
      "text/html": [
       "<div>\n",
       "<style scoped>\n",
       "    .dataframe tbody tr th:only-of-type {\n",
       "        vertical-align: middle;\n",
       "    }\n",
       "\n",
       "    .dataframe tbody tr th {\n",
       "        vertical-align: top;\n",
       "    }\n",
       "\n",
       "    .dataframe thead th {\n",
       "        text-align: right;\n",
       "    }\n",
       "</style>\n",
       "<table border=\"1\" class=\"dataframe\">\n",
       "  <thead>\n",
       "    <tr style=\"text-align: right;\">\n",
       "      <th></th>\n",
       "      <th>article_old</th>\n",
       "      <th>size</th>\n",
       "      <th>month</th>\n",
       "      <th>sales_in_units</th>\n",
       "      <th>article_new</th>\n",
       "      <th>stock_balance_in_units</th>\n",
       "      <th>cost_price_rub</th>\n",
       "      <th>price_rub</th>\n",
       "      <th>total_revenue</th>\n",
       "      <th>profit</th>\n",
       "    </tr>\n",
       "  </thead>\n",
       "  <tbody>\n",
       "    <tr>\n",
       "      <td>0</td>\n",
       "      <td>02025727Y052D0/55</td>\n",
       "      <td>XS</td>\n",
       "      <td>9</td>\n",
       "      <td>88</td>\n",
       "      <td>02025727Y05255D0</td>\n",
       "      <td>945.0</td>\n",
       "      <td>564.0</td>\n",
       "      <td>1258.0</td>\n",
       "      <td>110704.0</td>\n",
       "      <td>61072.0</td>\n",
       "    </tr>\n",
       "    <tr>\n",
       "      <td>1</td>\n",
       "      <td>02025727Y052D0/55</td>\n",
       "      <td>S</td>\n",
       "      <td>6</td>\n",
       "      <td>128</td>\n",
       "      <td>02025727Y05255D0</td>\n",
       "      <td>861.0</td>\n",
       "      <td>539.0</td>\n",
       "      <td>1471.0</td>\n",
       "      <td>188288.0</td>\n",
       "      <td>119296.0</td>\n",
       "    </tr>\n",
       "    <tr>\n",
       "      <td>2</td>\n",
       "      <td>020245D5Z022/55D0</td>\n",
       "      <td>M</td>\n",
       "      <td>7</td>\n",
       "      <td>83</td>\n",
       "      <td>020245D5Z02255D0</td>\n",
       "      <td>1001.0</td>\n",
       "      <td>1057.0</td>\n",
       "      <td>2526.0</td>\n",
       "      <td>209658.0</td>\n",
       "      <td>121927.0</td>\n",
       "    </tr>\n",
       "    <tr>\n",
       "      <td>3</td>\n",
       "      <td>020245D5Z022/55D0</td>\n",
       "      <td>M</td>\n",
       "      <td>9</td>\n",
       "      <td>68</td>\n",
       "      <td>020245D5Z02255D0</td>\n",
       "      <td>1001.0</td>\n",
       "      <td>1057.0</td>\n",
       "      <td>2526.0</td>\n",
       "      <td>171768.0</td>\n",
       "      <td>99892.0</td>\n",
       "    </tr>\n",
       "    <tr>\n",
       "      <td>4</td>\n",
       "      <td>020245D5Z022/55D0</td>\n",
       "      <td>L</td>\n",
       "      <td>6</td>\n",
       "      <td>74</td>\n",
       "      <td>020245D5Z02255D0</td>\n",
       "      <td>623.0</td>\n",
       "      <td>1330.0</td>\n",
       "      <td>3844.0</td>\n",
       "      <td>284456.0</td>\n",
       "      <td>186036.0</td>\n",
       "    </tr>\n",
       "  </tbody>\n",
       "</table>\n",
       "</div>"
      ],
      "text/plain": [
       "         article_old size  month  sales_in_units       article_new  \\\n",
       "0  02025727Y052D0/55   XS      9              88  02025727Y05255D0   \n",
       "1  02025727Y052D0/55    S      6             128  02025727Y05255D0   \n",
       "2  020245D5Z022/55D0    M      7              83  020245D5Z02255D0   \n",
       "3  020245D5Z022/55D0    M      9              68  020245D5Z02255D0   \n",
       "4  020245D5Z022/55D0    L      6              74  020245D5Z02255D0   \n",
       "\n",
       "   stock_balance_in_units  cost_price_rub  price_rub  total_revenue    profit  \n",
       "0                   945.0           564.0     1258.0       110704.0   61072.0  \n",
       "1                   861.0           539.0     1471.0       188288.0  119296.0  \n",
       "2                  1001.0          1057.0     2526.0       209658.0  121927.0  \n",
       "3                  1001.0          1057.0     2526.0       171768.0   99892.0  \n",
       "4                   623.0          1330.0     3844.0       284456.0  186036.0  "
      ]
     },
     "execution_count": 25,
     "metadata": {},
     "output_type": "execute_result"
    }
   ],
   "source": [
    "sales_df.head()"
   ]
  },
  {
   "cell_type": "markdown",
   "metadata": {},
   "source": [
    " **Общая сумма продаж в рублях за июль**"
   ]
  },
  {
   "cell_type": "code",
   "execution_count": 26,
   "metadata": {},
   "outputs": [],
   "source": [
    "pd.options.display.float_format = '{:,.2f}'.format"
   ]
  },
  {
   "cell_type": "code",
   "execution_count": 27,
   "metadata": {},
   "outputs": [
    {
     "data": {
      "text/html": [
       "<div>\n",
       "<style scoped>\n",
       "    .dataframe tbody tr th:only-of-type {\n",
       "        vertical-align: middle;\n",
       "    }\n",
       "\n",
       "    .dataframe tbody tr th {\n",
       "        vertical-align: top;\n",
       "    }\n",
       "\n",
       "    .dataframe thead th {\n",
       "        text-align: right;\n",
       "    }\n",
       "</style>\n",
       "<table border=\"1\" class=\"dataframe\">\n",
       "  <thead>\n",
       "    <tr style=\"text-align: right;\">\n",
       "      <th></th>\n",
       "      <th>total_revenue</th>\n",
       "    </tr>\n",
       "    <tr>\n",
       "      <th>month</th>\n",
       "      <th></th>\n",
       "    </tr>\n",
       "  </thead>\n",
       "  <tbody>\n",
       "    <tr>\n",
       "      <td>6</td>\n",
       "      <td>1,537,839,897.00</td>\n",
       "    </tr>\n",
       "    <tr>\n",
       "      <td>7</td>\n",
       "      <td>1,539,956,705.00</td>\n",
       "    </tr>\n",
       "    <tr>\n",
       "      <td>8</td>\n",
       "      <td>1,545,171,101.00</td>\n",
       "    </tr>\n",
       "    <tr>\n",
       "      <td>9</td>\n",
       "      <td>1,538,628,177.00</td>\n",
       "    </tr>\n",
       "    <tr>\n",
       "      <td>10</td>\n",
       "      <td>1,542,198,349.00</td>\n",
       "    </tr>\n",
       "    <tr>\n",
       "      <td>11</td>\n",
       "      <td>1,545,799,295.00</td>\n",
       "    </tr>\n",
       "    <tr>\n",
       "      <td>12</td>\n",
       "      <td>1,537,778,188.00</td>\n",
       "    </tr>\n",
       "  </tbody>\n",
       "</table>\n",
       "</div>"
      ],
      "text/plain": [
       "         total_revenue\n",
       "month                 \n",
       "6     1,537,839,897.00\n",
       "7     1,539,956,705.00\n",
       "8     1,545,171,101.00\n",
       "9     1,538,628,177.00\n",
       "10    1,542,198,349.00\n",
       "11    1,545,799,295.00\n",
       "12    1,537,778,188.00"
      ]
     },
     "execution_count": 27,
     "metadata": {},
     "output_type": "execute_result"
    }
   ],
   "source": [
    "sales_july = sales_df.groupby('month').agg({'total_revenue':'sum'})\n",
    "sales_july"
   ]
  },
  {
   "cell_type": "code",
   "execution_count": 28,
   "metadata": {},
   "outputs": [
    {
     "data": {
      "text/plain": [
       "'Общая сумма продаж в рублях за июль 1,537,839,897.00 рублей'"
      ]
     },
     "execution_count": 28,
     "metadata": {},
     "output_type": "execute_result"
    }
   ],
   "source": [
    "'Общая сумма продаж в рублях за июль {:,.2f} рублей'.format(sales_july.iloc[0]['total_revenue'])"
   ]
  },
  {
   "cell_type": "markdown",
   "metadata": {},
   "source": [
    "**Общая сумма прибыли (продажи-себестоимость) в рублях в октябре**"
   ]
  },
  {
   "cell_type": "code",
   "execution_count": 29,
   "metadata": {},
   "outputs": [
    {
     "data": {
      "text/html": [
       "<div>\n",
       "<style scoped>\n",
       "    .dataframe tbody tr th:only-of-type {\n",
       "        vertical-align: middle;\n",
       "    }\n",
       "\n",
       "    .dataframe tbody tr th {\n",
       "        vertical-align: top;\n",
       "    }\n",
       "\n",
       "    .dataframe thead th {\n",
       "        text-align: right;\n",
       "    }\n",
       "</style>\n",
       "<table border=\"1\" class=\"dataframe\">\n",
       "  <thead>\n",
       "    <tr style=\"text-align: right;\">\n",
       "      <th></th>\n",
       "      <th>profit</th>\n",
       "    </tr>\n",
       "    <tr>\n",
       "      <th>month</th>\n",
       "      <th></th>\n",
       "    </tr>\n",
       "  </thead>\n",
       "  <tbody>\n",
       "    <tr>\n",
       "      <td>6</td>\n",
       "      <td>923,363,995.00</td>\n",
       "    </tr>\n",
       "    <tr>\n",
       "      <td>7</td>\n",
       "      <td>924,445,244.00</td>\n",
       "    </tr>\n",
       "    <tr>\n",
       "      <td>8</td>\n",
       "      <td>927,462,157.00</td>\n",
       "    </tr>\n",
       "    <tr>\n",
       "      <td>9</td>\n",
       "      <td>923,700,660.00</td>\n",
       "    </tr>\n",
       "    <tr>\n",
       "      <td>10</td>\n",
       "      <td>925,606,635.00</td>\n",
       "    </tr>\n",
       "    <tr>\n",
       "      <td>11</td>\n",
       "      <td>928,110,869.00</td>\n",
       "    </tr>\n",
       "    <tr>\n",
       "      <td>12</td>\n",
       "      <td>923,153,562.00</td>\n",
       "    </tr>\n",
       "  </tbody>\n",
       "</table>\n",
       "</div>"
      ],
      "text/plain": [
       "              profit\n",
       "month               \n",
       "6     923,363,995.00\n",
       "7     924,445,244.00\n",
       "8     927,462,157.00\n",
       "9     923,700,660.00\n",
       "10    925,606,635.00\n",
       "11    928,110,869.00\n",
       "12    923,153,562.00"
      ]
     },
     "execution_count": 29,
     "metadata": {},
     "output_type": "execute_result"
    }
   ],
   "source": [
    "profit_october = sales_df.groupby('month').agg({'profit':'sum'})\n",
    "profit_october"
   ]
  },
  {
   "cell_type": "code",
   "execution_count": 30,
   "metadata": {},
   "outputs": [
    {
     "data": {
      "text/plain": [
       "'Общая сумма прибыли в рублях за октябрь 925,606,635.00 рублей'"
      ]
     },
     "execution_count": 30,
     "metadata": {},
     "output_type": "execute_result"
    }
   ],
   "source": [
    "'Общая сумма прибыли в рублях за октябрь {:,.2f} рублей'.format(profit_october.iloc[4]['profit'])"
   ]
  },
  {
   "cell_type": "markdown",
   "metadata": {},
   "source": [
    "**Артикул (новый), который в рейтинге продаж (в рублях) был на 5 месте в августе**"
   ]
  },
  {
   "cell_type": "code",
   "execution_count": 31,
   "metadata": {
    "scrolled": true
   },
   "outputs": [
    {
     "data": {
      "text/html": [
       "<div>\n",
       "<style scoped>\n",
       "    .dataframe tbody tr th:only-of-type {\n",
       "        vertical-align: middle;\n",
       "    }\n",
       "\n",
       "    .dataframe tbody tr th {\n",
       "        vertical-align: top;\n",
       "    }\n",
       "\n",
       "    .dataframe thead th {\n",
       "        text-align: right;\n",
       "    }\n",
       "</style>\n",
       "<table border=\"1\" class=\"dataframe\">\n",
       "  <thead>\n",
       "    <tr style=\"text-align: right;\">\n",
       "      <th></th>\n",
       "      <th>month</th>\n",
       "      <th>article_new</th>\n",
       "      <th>total_revenue</th>\n",
       "    </tr>\n",
       "  </thead>\n",
       "  <tbody>\n",
       "    <tr>\n",
       "      <td>5707</td>\n",
       "      <td>8</td>\n",
       "      <td>32024712Y02351D0</td>\n",
       "      <td>2,173,474.00</td>\n",
       "    </tr>\n",
       "    <tr>\n",
       "      <td>4437</td>\n",
       "      <td>8</td>\n",
       "      <td>02021714Z10350D0</td>\n",
       "      <td>1,983,880.00</td>\n",
       "    </tr>\n",
       "    <tr>\n",
       "      <td>4743</td>\n",
       "      <td>8</td>\n",
       "      <td>02024717Y04251D0</td>\n",
       "      <td>1,954,974.00</td>\n",
       "    </tr>\n",
       "    <tr>\n",
       "      <td>5776</td>\n",
       "      <td>8</td>\n",
       "      <td>42025822305311S0</td>\n",
       "      <td>1,953,543.00</td>\n",
       "    </tr>\n",
       "    <tr>\n",
       "      <td>5767</td>\n",
       "      <td>8</td>\n",
       "      <td>42025327F5637500</td>\n",
       "      <td>1,929,854.00</td>\n",
       "    </tr>\n",
       "  </tbody>\n",
       "</table>\n",
       "</div>"
      ],
      "text/plain": [
       "      month       article_new  total_revenue\n",
       "5707      8  32024712Y02351D0   2,173,474.00\n",
       "4437      8  02021714Z10350D0   1,983,880.00\n",
       "4743      8  02024717Y04251D0   1,954,974.00\n",
       "5776      8  42025822305311S0   1,953,543.00\n",
       "5767      8  42025327F5637500   1,929,854.00"
      ]
     },
     "execution_count": 31,
     "metadata": {},
     "output_type": "execute_result"
    }
   ],
   "source": [
    "sales_article = sales_df.groupby(['month', 'article_new']).agg({'total_revenue':'sum'}).reset_index()\n",
    "top_sales_august = sales_article.query('month == 8').sort_values(by='total_revenue', ascending=False)\n",
    "top_sales_august.head()"
   ]
  },
  {
   "cell_type": "code",
   "execution_count": 32,
   "metadata": {},
   "outputs": [
    {
     "data": {
      "text/plain": [
       "'Артикул(новый), 5 место по продажам а августе 42025327F5637500, сумма продаж = 1,929,854.00 рублей'"
      ]
     },
     "execution_count": 32,
     "metadata": {},
     "output_type": "execute_result"
    }
   ],
   "source": [
    "'Артикул(новый), 5 место по продажам а августе {}, сумма продаж = {:,.2f} рублей'.format(\n",
    "                            top_sales_august.iloc[4]['article_new'], top_sales_august.iloc[4]['total_revenue'])"
   ]
  },
  {
   "cell_type": "markdown",
   "metadata": {},
   "source": [
    "**Остаток на складе ТОП-10 артикулов по продажам (в рублях) в августе**"
   ]
  },
  {
   "cell_type": "code",
   "execution_count": 33,
   "metadata": {},
   "outputs": [
    {
     "data": {
      "text/html": [
       "<div>\n",
       "<style scoped>\n",
       "    .dataframe tbody tr th:only-of-type {\n",
       "        vertical-align: middle;\n",
       "    }\n",
       "\n",
       "    .dataframe tbody tr th {\n",
       "        vertical-align: top;\n",
       "    }\n",
       "\n",
       "    .dataframe thead th {\n",
       "        text-align: right;\n",
       "    }\n",
       "</style>\n",
       "<table border=\"1\" class=\"dataframe\">\n",
       "  <thead>\n",
       "    <tr style=\"text-align: right;\">\n",
       "      <th></th>\n",
       "      <th>month</th>\n",
       "      <th>article_new</th>\n",
       "      <th>total_revenue</th>\n",
       "    </tr>\n",
       "  </thead>\n",
       "  <tbody>\n",
       "    <tr>\n",
       "      <td>5707</td>\n",
       "      <td>8</td>\n",
       "      <td>32024712Y02351D0</td>\n",
       "      <td>2,173,474.00</td>\n",
       "    </tr>\n",
       "    <tr>\n",
       "      <td>4437</td>\n",
       "      <td>8</td>\n",
       "      <td>02021714Z10350D0</td>\n",
       "      <td>1,983,880.00</td>\n",
       "    </tr>\n",
       "    <tr>\n",
       "      <td>4743</td>\n",
       "      <td>8</td>\n",
       "      <td>02024717Y04251D0</td>\n",
       "      <td>1,954,974.00</td>\n",
       "    </tr>\n",
       "    <tr>\n",
       "      <td>5776</td>\n",
       "      <td>8</td>\n",
       "      <td>42025822305311S0</td>\n",
       "      <td>1,953,543.00</td>\n",
       "    </tr>\n",
       "    <tr>\n",
       "      <td>5767</td>\n",
       "      <td>8</td>\n",
       "      <td>42025327F5637500</td>\n",
       "      <td>1,929,854.00</td>\n",
       "    </tr>\n",
       "    <tr>\n",
       "      <td>5507</td>\n",
       "      <td>8</td>\n",
       "      <td>22024721S03250D0</td>\n",
       "      <td>1,926,593.00</td>\n",
       "    </tr>\n",
       "    <tr>\n",
       "      <td>5457</td>\n",
       "      <td>8</td>\n",
       "      <td>22023714Z11355D0</td>\n",
       "      <td>1,917,536.00</td>\n",
       "    </tr>\n",
       "    <tr>\n",
       "      <td>4957</td>\n",
       "      <td>8</td>\n",
       "      <td>0202632100136100</td>\n",
       "      <td>1,895,495.00</td>\n",
       "    </tr>\n",
       "    <tr>\n",
       "      <td>4670</td>\n",
       "      <td>8</td>\n",
       "      <td>02023714Z01155D0</td>\n",
       "      <td>1,850,641.00</td>\n",
       "    </tr>\n",
       "    <tr>\n",
       "      <td>4365</td>\n",
       "      <td>8</td>\n",
       "      <td>02021120207201P0</td>\n",
       "      <td>1,838,413.00</td>\n",
       "    </tr>\n",
       "  </tbody>\n",
       "</table>\n",
       "</div>"
      ],
      "text/plain": [
       "      month       article_new  total_revenue\n",
       "5707      8  32024712Y02351D0   2,173,474.00\n",
       "4437      8  02021714Z10350D0   1,983,880.00\n",
       "4743      8  02024717Y04251D0   1,954,974.00\n",
       "5776      8  42025822305311S0   1,953,543.00\n",
       "5767      8  42025327F5637500   1,929,854.00\n",
       "5507      8  22024721S03250D0   1,926,593.00\n",
       "5457      8  22023714Z11355D0   1,917,536.00\n",
       "4957      8  0202632100136100   1,895,495.00\n",
       "4670      8  02023714Z01155D0   1,850,641.00\n",
       "4365      8  02021120207201P0   1,838,413.00"
      ]
     },
     "execution_count": 33,
     "metadata": {},
     "output_type": "execute_result"
    }
   ],
   "source": [
    "top_sales_august_top_10 = top_sales_august.head(10) # ТОП-10 артиулов по продажам в агусте\n",
    "top_sales_august_top_10"
   ]
  },
  {
   "cell_type": "code",
   "execution_count": 34,
   "metadata": {},
   "outputs": [
    {
     "data": {
      "text/plain": [
       "['32024712Y02351D0',\n",
       " '02021714Z10350D0',\n",
       " '02024717Y04251D0',\n",
       " '42025822305311S0',\n",
       " '42025327F5637500',\n",
       " '22024721S03250D0',\n",
       " '22023714Z11355D0',\n",
       " '0202632100136100',\n",
       " '02023714Z01155D0',\n",
       " '02021120207201P0']"
      ]
     },
     "execution_count": 34,
     "metadata": {},
     "output_type": "execute_result"
    }
   ],
   "source": [
    "# список артикулов для фильтрации\n",
    "article_august_top_10 = top_sales_august_top_10.article_new.unique().tolist() \n",
    "article_august_top_10"
   ]
  },
  {
   "cell_type": "code",
   "execution_count": 35,
   "metadata": {},
   "outputs": [
    {
     "data": {
      "text/html": [
       "<div>\n",
       "<style scoped>\n",
       "    .dataframe tbody tr th:only-of-type {\n",
       "        vertical-align: middle;\n",
       "    }\n",
       "\n",
       "    .dataframe tbody tr th {\n",
       "        vertical-align: top;\n",
       "    }\n",
       "\n",
       "    .dataframe thead th {\n",
       "        text-align: right;\n",
       "    }\n",
       "</style>\n",
       "<table border=\"1\" class=\"dataframe\">\n",
       "  <thead>\n",
       "    <tr style=\"text-align: right;\">\n",
       "      <th></th>\n",
       "      <th>article_new</th>\n",
       "      <th>size</th>\n",
       "      <th>stock_balance_in_units</th>\n",
       "      <th>cost_price_rub</th>\n",
       "      <th>price_rub</th>\n",
       "    </tr>\n",
       "  </thead>\n",
       "  <tbody>\n",
       "    <tr>\n",
       "      <td>2347</td>\n",
       "      <td>02021120207201P0</td>\n",
       "      <td>L</td>\n",
       "      <td>871</td>\n",
       "      <td>1430</td>\n",
       "      <td>4004</td>\n",
       "    </tr>\n",
       "    <tr>\n",
       "      <td>2348</td>\n",
       "      <td>02021120207201P0</td>\n",
       "      <td>M</td>\n",
       "      <td>955</td>\n",
       "      <td>1101</td>\n",
       "      <td>2389</td>\n",
       "    </tr>\n",
       "    <tr>\n",
       "      <td>2349</td>\n",
       "      <td>02021120207201P0</td>\n",
       "      <td>S</td>\n",
       "      <td>521</td>\n",
       "      <td>1445</td>\n",
       "      <td>3974</td>\n",
       "    </tr>\n",
       "    <tr>\n",
       "      <td>2350</td>\n",
       "      <td>02021120207201P0</td>\n",
       "      <td>XL</td>\n",
       "      <td>1026</td>\n",
       "      <td>1143</td>\n",
       "      <td>2515</td>\n",
       "    </tr>\n",
       "    <tr>\n",
       "      <td>2351</td>\n",
       "      <td>02021120207201P0</td>\n",
       "      <td>XS</td>\n",
       "      <td>333</td>\n",
       "      <td>792</td>\n",
       "      <td>2313</td>\n",
       "    </tr>\n",
       "    <tr>\n",
       "      <td>...</td>\n",
       "      <td>...</td>\n",
       "      <td>...</td>\n",
       "      <td>...</td>\n",
       "      <td>...</td>\n",
       "      <td>...</td>\n",
       "    </tr>\n",
       "    <tr>\n",
       "      <td>9857</td>\n",
       "      <td>42025822305311S0</td>\n",
       "      <td>M</td>\n",
       "      <td>420</td>\n",
       "      <td>1159</td>\n",
       "      <td>3419</td>\n",
       "    </tr>\n",
       "    <tr>\n",
       "      <td>9858</td>\n",
       "      <td>42025822305311S0</td>\n",
       "      <td>S</td>\n",
       "      <td>220</td>\n",
       "      <td>1419</td>\n",
       "      <td>3505</td>\n",
       "    </tr>\n",
       "    <tr>\n",
       "      <td>9859</td>\n",
       "      <td>42025822305311S0</td>\n",
       "      <td>XL</td>\n",
       "      <td>378</td>\n",
       "      <td>1156</td>\n",
       "      <td>2416</td>\n",
       "    </tr>\n",
       "    <tr>\n",
       "      <td>9860</td>\n",
       "      <td>42025822305311S0</td>\n",
       "      <td>XXL</td>\n",
       "      <td>381</td>\n",
       "      <td>1320</td>\n",
       "      <td>3577</td>\n",
       "    </tr>\n",
       "    <tr>\n",
       "      <td>9861</td>\n",
       "      <td>42025822305311S0</td>\n",
       "      <td>XXXL</td>\n",
       "      <td>275</td>\n",
       "      <td>1046</td>\n",
       "      <td>3033</td>\n",
       "    </tr>\n",
       "  </tbody>\n",
       "</table>\n",
       "<p>77 rows × 5 columns</p>\n",
       "</div>"
      ],
      "text/plain": [
       "           article_new  size  stock_balance_in_units  cost_price_rub  \\\n",
       "2347  02021120207201P0     L                     871            1430   \n",
       "2348  02021120207201P0     M                     955            1101   \n",
       "2349  02021120207201P0     S                     521            1445   \n",
       "2350  02021120207201P0    XL                    1026            1143   \n",
       "2351  02021120207201P0    XS                     333             792   \n",
       "...                ...   ...                     ...             ...   \n",
       "9857  42025822305311S0     M                     420            1159   \n",
       "9858  42025822305311S0     S                     220            1419   \n",
       "9859  42025822305311S0    XL                     378            1156   \n",
       "9860  42025822305311S0   XXL                     381            1320   \n",
       "9861  42025822305311S0  XXXL                     275            1046   \n",
       "\n",
       "      price_rub  \n",
       "2347       4004  \n",
       "2348       2389  \n",
       "2349       3974  \n",
       "2350       2515  \n",
       "2351       2313  \n",
       "...         ...  \n",
       "9857       3419  \n",
       "9858       3505  \n",
       "9859       2416  \n",
       "9860       3577  \n",
       "9861       3033  \n",
       "\n",
       "[77 rows x 5 columns]"
      ]
     },
     "execution_count": 35,
     "metadata": {},
     "output_type": "execute_result"
    }
   ],
   "source": [
    "# данные по остаткам артикулов из списка ТОП-10 по продажам в августе\n",
    "article_august_top_10_remains = remains_df.query('article_new == @article_august_top_10')\n",
    "article_august_top_10_remains"
   ]
  },
  {
   "cell_type": "code",
   "execution_count": 36,
   "metadata": {},
   "outputs": [
    {
     "data": {
      "text/plain": [
       "'Остаток на складе ТОП-10 артикулов по продажам (в рублях) в августе 27455'"
      ]
     },
     "execution_count": 36,
     "metadata": {},
     "output_type": "execute_result"
    }
   ],
   "source": [
    "'Остаток на складе ТОП-10 артикулов по продажам (в рублях) в августе {}'.format(\n",
    "                                    article_august_top_10_remains.stock_balance_in_units.sum())"
   ]
  },
  {
   "cell_type": "markdown",
   "metadata": {},
   "source": [
    "**Определить, нормальное ли распределение ‘Продаж, шт’.**"
   ]
  },
  {
   "cell_type": "code",
   "execution_count": 37,
   "metadata": {},
   "outputs": [
    {
     "data": {
      "image/png": "[encoded data removed]",
      "text/plain": [
       "<Figure size 720x432 with 1 Axes>"
      ]
     },
     "metadata": {
      "needs_background": "light"
     },
     "output_type": "display_data"
    }
   ],
   "source": [
    "plt.figure(figsize=(10, 6))\n",
    "sns.set_style('darkgrid')\n",
    "sns.distplot(sales_df.sales_in_units)\n",
    "plt.title('Распределение объемов продаж в шт., близко к нормальному\\n');"
   ]
  },
  {
   "cell_type": "markdown",
   "metadata": {},
   "source": [
    "**Вычислить квадратное отклонение выборки**  "
   ]
  },
  {
   "cell_type": "code",
   "execution_count": 38,
   "metadata": {},
   "outputs": [
    {
     "data": {
      "text/html": [
       "<div>\n",
       "<style scoped>\n",
       "    .dataframe tbody tr th:only-of-type {\n",
       "        vertical-align: middle;\n",
       "    }\n",
       "\n",
       "    .dataframe tbody tr th {\n",
       "        vertical-align: top;\n",
       "    }\n",
       "\n",
       "    .dataframe thead th {\n",
       "        text-align: right;\n",
       "    }\n",
       "</style>\n",
       "<table border=\"1\" class=\"dataframe\">\n",
       "  <thead>\n",
       "    <tr style=\"text-align: right;\">\n",
       "      <th></th>\n",
       "      <th>month</th>\n",
       "      <th>sales_in_units</th>\n",
       "      <th>stock_balance_in_units</th>\n",
       "      <th>cost_price_rub</th>\n",
       "      <th>price_rub</th>\n",
       "      <th>total_revenue</th>\n",
       "      <th>profit</th>\n",
       "    </tr>\n",
       "  </thead>\n",
       "  <tbody>\n",
       "    <tr>\n",
       "      <td>count</td>\n",
       "      <td>60,074.00</td>\n",
       "      <td>60,074.00</td>\n",
       "      <td>56,525.00</td>\n",
       "      <td>56,525.00</td>\n",
       "      <td>56,525.00</td>\n",
       "      <td>56,525.00</td>\n",
       "      <td>56,525.00</td>\n",
       "    </tr>\n",
       "    <tr>\n",
       "      <td>mean</td>\n",
       "      <td>9.00</td>\n",
       "      <td>84.10</td>\n",
       "      <td>482.57</td>\n",
       "      <td>906.80</td>\n",
       "      <td>2,268.84</td>\n",
       "      <td>190,842.49</td>\n",
       "      <td>114,566.00</td>\n",
       "    </tr>\n",
       "    <tr>\n",
       "      <td>std</td>\n",
       "      <td>2.00</td>\n",
       "      <td>19.94</td>\n",
       "      <td>586.74</td>\n",
       "      <td>345.81</td>\n",
       "      <td>910.43</td>\n",
       "      <td>90,882.62</td>\n",
       "      <td>57,955.52</td>\n",
       "    </tr>\n",
       "    <tr>\n",
       "      <td>min</td>\n",
       "      <td>6.00</td>\n",
       "      <td>2.00</td>\n",
       "      <td>1.00</td>\n",
       "      <td>300.00</td>\n",
       "      <td>602.00</td>\n",
       "      <td>3,226.00</td>\n",
       "      <td>1,652.00</td>\n",
       "    </tr>\n",
       "    <tr>\n",
       "      <td>25%</td>\n",
       "      <td>7.00</td>\n",
       "      <td>71.00</td>\n",
       "      <td>122.00</td>\n",
       "      <td>609.00</td>\n",
       "      <td>1,493.00</td>\n",
       "      <td>118,160.00</td>\n",
       "      <td>69,139.00</td>\n",
       "    </tr>\n",
       "    <tr>\n",
       "      <td>50%</td>\n",
       "      <td>9.00</td>\n",
       "      <td>84.00</td>\n",
       "      <td>292.00</td>\n",
       "      <td>913.00</td>\n",
       "      <td>2,252.00</td>\n",
       "      <td>179,498.00</td>\n",
       "      <td>105,450.00</td>\n",
       "    </tr>\n",
       "    <tr>\n",
       "      <td>75%</td>\n",
       "      <td>11.00</td>\n",
       "      <td>98.00</td>\n",
       "      <td>621.00</td>\n",
       "      <td>1,205.00</td>\n",
       "      <td>2,963.00</td>\n",
       "      <td>250,800.00</td>\n",
       "      <td>149,940.00</td>\n",
       "    </tr>\n",
       "    <tr>\n",
       "      <td>max</td>\n",
       "      <td>12.00</td>\n",
       "      <td>174.00</td>\n",
       "      <td>6,832.00</td>\n",
       "      <td>1,500.00</td>\n",
       "      <td>4,476.00</td>\n",
       "      <td>674,001.00</td>\n",
       "      <td>446,301.00</td>\n",
       "    </tr>\n",
       "  </tbody>\n",
       "</table>\n",
       "</div>"
      ],
      "text/plain": [
       "          month  sales_in_units  stock_balance_in_units  cost_price_rub  \\\n",
       "count 60,074.00       60,074.00               56,525.00       56,525.00   \n",
       "mean       9.00           84.10                  482.57          906.80   \n",
       "std        2.00           19.94                  586.74          345.81   \n",
       "min        6.00            2.00                    1.00          300.00   \n",
       "25%        7.00           71.00                  122.00          609.00   \n",
       "50%        9.00           84.00                  292.00          913.00   \n",
       "75%       11.00           98.00                  621.00        1,205.00   \n",
       "max       12.00          174.00                6,832.00        1,500.00   \n",
       "\n",
       "       price_rub  total_revenue     profit  \n",
       "count  56,525.00      56,525.00  56,525.00  \n",
       "mean    2,268.84     190,842.49 114,566.00  \n",
       "std       910.43      90,882.62  57,955.52  \n",
       "min       602.00       3,226.00   1,652.00  \n",
       "25%     1,493.00     118,160.00  69,139.00  \n",
       "50%     2,252.00     179,498.00 105,450.00  \n",
       "75%     2,963.00     250,800.00 149,940.00  \n",
       "max     4,476.00     674,001.00 446,301.00  "
      ]
     },
     "execution_count": 38,
     "metadata": {},
     "output_type": "execute_result"
    }
   ],
   "source": [
    "sales_df.describe()"
   ]
  },
  {
   "cell_type": "code",
   "execution_count": 39,
   "metadata": {},
   "outputs": [
    {
     "data": {
      "text/plain": [
       "'Среднеквадратичное отклонение (стандарное отклонение) 19.94'"
      ]
     },
     "execution_count": 39,
     "metadata": {},
     "output_type": "execute_result"
    }
   ],
   "source": [
    "'Среднеквадратичное отклонение (стандарное отклонение) {:.2f}'.format(sales_df.sales_in_units.std(ddof=1))"
   ]
  },
  {
   "cell_type": "markdown",
   "metadata": {},
   "source": [
    "**Диапазон 95% значений.**\n",
    "\n",
    "Расчитаем 95% диапазон значений через персентили, слева 2,5%, справа 97,5 "
   ]
  },
  {
   "cell_type": "code",
   "execution_count": 40,
   "metadata": {},
   "outputs": [
    {
     "data": {
      "text/plain": [
       "'Левый граница 45.00'"
      ]
     },
     "execution_count": 40,
     "metadata": {},
     "output_type": "execute_result"
    }
   ],
   "source": [
    "'Левый граница {:.2f}'.format(np.percentile(sales_df.sales_in_units, 2.5))"
   ]
  },
  {
   "cell_type": "code",
   "execution_count": 41,
   "metadata": {},
   "outputs": [
    {
     "data": {
      "text/plain": [
       "'Правый граница 123.00'"
      ]
     },
     "execution_count": 41,
     "metadata": {},
     "output_type": "execute_result"
    }
   ],
   "source": [
    "'Правый граница {:.2f}'.format(np.percentile(sales_df.sales_in_units, 97.5))"
   ]
  },
  {
   "cell_type": "markdown",
   "metadata": {},
   "source": [
    "**Построить график распределения количества буквенных размеров ('M', 'L', 'S', 'XL', 'XS', 'XXL', 'XXXL', 'XXS') в выборке**"
   ]
  },
  {
   "cell_type": "code",
   "execution_count": 42,
   "metadata": {},
   "outputs": [
    {
     "data": {
      "text/html": [
       "<div>\n",
       "<style scoped>\n",
       "    .dataframe tbody tr th:only-of-type {\n",
       "        vertical-align: middle;\n",
       "    }\n",
       "\n",
       "    .dataframe tbody tr th {\n",
       "        vertical-align: top;\n",
       "    }\n",
       "\n",
       "    .dataframe thead th {\n",
       "        text-align: right;\n",
       "    }\n",
       "</style>\n",
       "<table border=\"1\" class=\"dataframe\">\n",
       "  <thead>\n",
       "    <tr style=\"text-align: right;\">\n",
       "      <th></th>\n",
       "      <th>article_old</th>\n",
       "      <th>size</th>\n",
       "      <th>month</th>\n",
       "      <th>sales_in_units</th>\n",
       "      <th>article_new</th>\n",
       "      <th>stock_balance_in_units</th>\n",
       "      <th>cost_price_rub</th>\n",
       "      <th>price_rub</th>\n",
       "      <th>total_revenue</th>\n",
       "      <th>profit</th>\n",
       "    </tr>\n",
       "  </thead>\n",
       "  <tbody>\n",
       "    <tr>\n",
       "      <td>0</td>\n",
       "      <td>02025727Y052D0/55</td>\n",
       "      <td>XS</td>\n",
       "      <td>9</td>\n",
       "      <td>88</td>\n",
       "      <td>02025727Y05255D0</td>\n",
       "      <td>945.00</td>\n",
       "      <td>564.00</td>\n",
       "      <td>1,258.00</td>\n",
       "      <td>110,704.00</td>\n",
       "      <td>61,072.00</td>\n",
       "    </tr>\n",
       "    <tr>\n",
       "      <td>1</td>\n",
       "      <td>02025727Y052D0/55</td>\n",
       "      <td>S</td>\n",
       "      <td>6</td>\n",
       "      <td>128</td>\n",
       "      <td>02025727Y05255D0</td>\n",
       "      <td>861.00</td>\n",
       "      <td>539.00</td>\n",
       "      <td>1,471.00</td>\n",
       "      <td>188,288.00</td>\n",
       "      <td>119,296.00</td>\n",
       "    </tr>\n",
       "    <tr>\n",
       "      <td>2</td>\n",
       "      <td>020245D5Z022/55D0</td>\n",
       "      <td>M</td>\n",
       "      <td>7</td>\n",
       "      <td>83</td>\n",
       "      <td>020245D5Z02255D0</td>\n",
       "      <td>1,001.00</td>\n",
       "      <td>1,057.00</td>\n",
       "      <td>2,526.00</td>\n",
       "      <td>209,658.00</td>\n",
       "      <td>121,927.00</td>\n",
       "    </tr>\n",
       "    <tr>\n",
       "      <td>3</td>\n",
       "      <td>020245D5Z022/55D0</td>\n",
       "      <td>M</td>\n",
       "      <td>9</td>\n",
       "      <td>68</td>\n",
       "      <td>020245D5Z02255D0</td>\n",
       "      <td>1,001.00</td>\n",
       "      <td>1,057.00</td>\n",
       "      <td>2,526.00</td>\n",
       "      <td>171,768.00</td>\n",
       "      <td>99,892.00</td>\n",
       "    </tr>\n",
       "    <tr>\n",
       "      <td>4</td>\n",
       "      <td>020245D5Z022/55D0</td>\n",
       "      <td>L</td>\n",
       "      <td>6</td>\n",
       "      <td>74</td>\n",
       "      <td>020245D5Z02255D0</td>\n",
       "      <td>623.00</td>\n",
       "      <td>1,330.00</td>\n",
       "      <td>3,844.00</td>\n",
       "      <td>284,456.00</td>\n",
       "      <td>186,036.00</td>\n",
       "    </tr>\n",
       "  </tbody>\n",
       "</table>\n",
       "</div>"
      ],
      "text/plain": [
       "         article_old size  month  sales_in_units       article_new  \\\n",
       "0  02025727Y052D0/55   XS      9              88  02025727Y05255D0   \n",
       "1  02025727Y052D0/55    S      6             128  02025727Y05255D0   \n",
       "2  020245D5Z022/55D0    M      7              83  020245D5Z02255D0   \n",
       "3  020245D5Z022/55D0    M      9              68  020245D5Z02255D0   \n",
       "4  020245D5Z022/55D0    L      6              74  020245D5Z02255D0   \n",
       "\n",
       "   stock_balance_in_units  cost_price_rub  price_rub  total_revenue     profit  \n",
       "0                  945.00          564.00   1,258.00     110,704.00  61,072.00  \n",
       "1                  861.00          539.00   1,471.00     188,288.00 119,296.00  \n",
       "2                1,001.00        1,057.00   2,526.00     209,658.00 121,927.00  \n",
       "3                1,001.00        1,057.00   2,526.00     171,768.00  99,892.00  \n",
       "4                  623.00        1,330.00   3,844.00     284,456.00 186,036.00  "
      ]
     },
     "execution_count": 42,
     "metadata": {},
     "output_type": "execute_result"
    }
   ],
   "source": [
    "sales_df.head()"
   ]
  },
  {
   "cell_type": "code",
   "execution_count": 43,
   "metadata": {},
   "outputs": [],
   "source": [
    "size_filter = ['M', 'L', 'S', 'XL', 'XS', 'XXL', 'XXXL', 'XXS']"
   ]
  },
  {
   "cell_type": "code",
   "execution_count": 44,
   "metadata": {
    "scrolled": false
   },
   "outputs": [
    {
     "data": {
      "text/html": [
       "<div>\n",
       "<style scoped>\n",
       "    .dataframe tbody tr th:only-of-type {\n",
       "        vertical-align: middle;\n",
       "    }\n",
       "\n",
       "    .dataframe tbody tr th {\n",
       "        vertical-align: top;\n",
       "    }\n",
       "\n",
       "    .dataframe thead th {\n",
       "        text-align: right;\n",
       "    }\n",
       "</style>\n",
       "<table border=\"1\" class=\"dataframe\">\n",
       "  <thead>\n",
       "    <tr style=\"text-align: right;\">\n",
       "      <th></th>\n",
       "      <th>article_old</th>\n",
       "      <th>size</th>\n",
       "      <th>month</th>\n",
       "      <th>sales_in_units</th>\n",
       "      <th>article_new</th>\n",
       "      <th>stock_balance_in_units</th>\n",
       "      <th>cost_price_rub</th>\n",
       "      <th>price_rub</th>\n",
       "      <th>total_revenue</th>\n",
       "      <th>profit</th>\n",
       "    </tr>\n",
       "  </thead>\n",
       "  <tbody>\n",
       "    <tr>\n",
       "      <td>0</td>\n",
       "      <td>02025727Y052D0/55</td>\n",
       "      <td>XS</td>\n",
       "      <td>9</td>\n",
       "      <td>88</td>\n",
       "      <td>02025727Y05255D0</td>\n",
       "      <td>945.00</td>\n",
       "      <td>564.00</td>\n",
       "      <td>1,258.00</td>\n",
       "      <td>110,704.00</td>\n",
       "      <td>61,072.00</td>\n",
       "    </tr>\n",
       "    <tr>\n",
       "      <td>2</td>\n",
       "      <td>020245D5Z022/55D0</td>\n",
       "      <td>M</td>\n",
       "      <td>7</td>\n",
       "      <td>83</td>\n",
       "      <td>020245D5Z02255D0</td>\n",
       "      <td>1,001.00</td>\n",
       "      <td>1,057.00</td>\n",
       "      <td>2,526.00</td>\n",
       "      <td>209,658.00</td>\n",
       "      <td>121,927.00</td>\n",
       "    </tr>\n",
       "    <tr>\n",
       "      <td>3</td>\n",
       "      <td>020245D5Z022/55D0</td>\n",
       "      <td>M</td>\n",
       "      <td>9</td>\n",
       "      <td>68</td>\n",
       "      <td>020245D5Z02255D0</td>\n",
       "      <td>1,001.00</td>\n",
       "      <td>1,057.00</td>\n",
       "      <td>2,526.00</td>\n",
       "      <td>171,768.00</td>\n",
       "      <td>99,892.00</td>\n",
       "    </tr>\n",
       "    <tr>\n",
       "      <td>4</td>\n",
       "      <td>020245D5Z022/55D0</td>\n",
       "      <td>L</td>\n",
       "      <td>6</td>\n",
       "      <td>74</td>\n",
       "      <td>020245D5Z02255D0</td>\n",
       "      <td>623.00</td>\n",
       "      <td>1,330.00</td>\n",
       "      <td>3,844.00</td>\n",
       "      <td>284,456.00</td>\n",
       "      <td>186,036.00</td>\n",
       "    </tr>\n",
       "    <tr>\n",
       "      <td>5</td>\n",
       "      <td>020245D5Z022/55D0</td>\n",
       "      <td>L</td>\n",
       "      <td>7</td>\n",
       "      <td>104</td>\n",
       "      <td>020245D5Z02255D0</td>\n",
       "      <td>623.00</td>\n",
       "      <td>1,330.00</td>\n",
       "      <td>3,844.00</td>\n",
       "      <td>399,776.00</td>\n",
       "      <td>261,456.00</td>\n",
       "    </tr>\n",
       "  </tbody>\n",
       "</table>\n",
       "</div>"
      ],
      "text/plain": [
       "         article_old size  month  sales_in_units       article_new  \\\n",
       "0  02025727Y052D0/55   XS      9              88  02025727Y05255D0   \n",
       "2  020245D5Z022/55D0    M      7              83  020245D5Z02255D0   \n",
       "3  020245D5Z022/55D0    M      9              68  020245D5Z02255D0   \n",
       "4  020245D5Z022/55D0    L      6              74  020245D5Z02255D0   \n",
       "5  020245D5Z022/55D0    L      7             104  020245D5Z02255D0   \n",
       "\n",
       "   stock_balance_in_units  cost_price_rub  price_rub  total_revenue     profit  \n",
       "0                  945.00          564.00   1,258.00     110,704.00  61,072.00  \n",
       "2                1,001.00        1,057.00   2,526.00     209,658.00 121,927.00  \n",
       "3                1,001.00        1,057.00   2,526.00     171,768.00  99,892.00  \n",
       "4                  623.00        1,330.00   3,844.00     284,456.00 186,036.00  \n",
       "5                  623.00        1,330.00   3,844.00     399,776.00 261,456.00  "
      ]
     },
     "execution_count": 44,
     "metadata": {},
     "output_type": "execute_result"
    }
   ],
   "source": [
    "size_TOP_sales = sales_df.query('size == @size_filter & 45 <= sales_in_units <= 123')\n",
    "size_TOP_sales.head()"
   ]
  },
  {
   "cell_type": "code",
   "execution_count": 45,
   "metadata": {},
   "outputs": [],
   "source": [
    "size_m = ['M']\n",
    "size_l = ['L']\n",
    "size_s = ['S']\n",
    "size_xl = ['XL']\n",
    "size_xs = ['XS']\n",
    "size_xxl = ['XXL']\n",
    "size_xxxl = ['XXXL']\n",
    "size_xxs = ['XXS']"
   ]
  },
  {
   "cell_type": "code",
   "execution_count": 46,
   "metadata": {
    "scrolled": false
   },
   "outputs": [
    {
     "data": {
      "image/png": "[encoded data removed]",
      "text/plain": [
       "<Figure size 1080x720 with 1 Axes>"
      ]
     },
     "metadata": {},
     "output_type": "display_data"
    }
   ],
   "source": [
    "plt.figure(figsize=(15, 10))\n",
    "\n",
    "plt.hist(size_TOP_sales.query('size == @size_m').sales_in_units, bins=30, alpha=1, label='M')\n",
    "plt.hist(size_TOP_sales.query('size == @size_l').sales_in_units, bins=30, alpha=0.5, label='L')\n",
    "plt.hist(size_TOP_sales.query('size == @size_s').sales_in_units, bins=30, alpha=0.5, label='S')\n",
    "plt.hist(size_TOP_sales.query('size == @size_xl').sales_in_units, bins=30, alpha=0.5, label='XL')\n",
    "plt.hist(size_TOP_sales.query('size == @size_xs').sales_in_units, bins=30, alpha=0.5, label='XS')\n",
    "plt.hist(size_TOP_sales.query('size == @size_xxl').sales_in_units, bins=30, alpha=1, label='XXL')\n",
    "plt.hist(size_TOP_sales.query('size == @size_xxxl').sales_in_units, bins=30, alpha=1, label='XXXL')\n",
    "plt.hist(size_TOP_sales.query('size == @size_xxs').sales_in_units, bins=30, alpha=1, label='XXS')\n",
    "\n",
    "plt.legend(loc='upper right')\n",
    "plt.title('Диаграмма распределения количества буквенных размеров (М, L, S, XL, XS, XXL, XXXL, XXS)')\n",
    "plt.show();"
   ]
  },
  {
   "cell_type": "markdown",
   "metadata": {},
   "source": [
    "> мало интформатинвно конечно"
   ]
  },
  {
   "cell_type": "markdown",
   "metadata": {},
   "source": [
    "**График количества артикулов буквенных размеров ('M', 'L', 'S', 'XL', 'XS', 'XXL', 'XXXL', 'XXS') в 95% выборке**"
   ]
  },
  {
   "cell_type": "code",
   "execution_count": 47,
   "metadata": {},
   "outputs": [
    {
     "data": {
      "text/html": [
       "<div>\n",
       "<style scoped>\n",
       "    .dataframe tbody tr th:only-of-type {\n",
       "        vertical-align: middle;\n",
       "    }\n",
       "\n",
       "    .dataframe tbody tr th {\n",
       "        vertical-align: top;\n",
       "    }\n",
       "\n",
       "    .dataframe thead th {\n",
       "        text-align: right;\n",
       "    }\n",
       "</style>\n",
       "<table border=\"1\" class=\"dataframe\">\n",
       "  <thead>\n",
       "    <tr style=\"text-align: right;\">\n",
       "      <th></th>\n",
       "      <th>size</th>\n",
       "      <th>sales_in_units</th>\n",
       "    </tr>\n",
       "  </thead>\n",
       "  <tbody>\n",
       "    <tr>\n",
       "      <td>0</td>\n",
       "      <td>L</td>\n",
       "      <td>772612</td>\n",
       "    </tr>\n",
       "    <tr>\n",
       "      <td>1</td>\n",
       "      <td>M</td>\n",
       "      <td>780953</td>\n",
       "    </tr>\n",
       "    <tr>\n",
       "      <td>2</td>\n",
       "      <td>S</td>\n",
       "      <td>720264</td>\n",
       "    </tr>\n",
       "    <tr>\n",
       "      <td>3</td>\n",
       "      <td>XL</td>\n",
       "      <td>719115</td>\n",
       "    </tr>\n",
       "    <tr>\n",
       "      <td>4</td>\n",
       "      <td>XS</td>\n",
       "      <td>515612</td>\n",
       "    </tr>\n",
       "    <tr>\n",
       "      <td>5</td>\n",
       "      <td>XXL</td>\n",
       "      <td>445270</td>\n",
       "    </tr>\n",
       "    <tr>\n",
       "      <td>6</td>\n",
       "      <td>XXS</td>\n",
       "      <td>82663</td>\n",
       "    </tr>\n",
       "    <tr>\n",
       "      <td>7</td>\n",
       "      <td>XXXL</td>\n",
       "      <td>195092</td>\n",
       "    </tr>\n",
       "  </tbody>\n",
       "</table>\n",
       "</div>"
      ],
      "text/plain": [
       "   size  sales_in_units\n",
       "0     L          772612\n",
       "1     M          780953\n",
       "2     S          720264\n",
       "3    XL          719115\n",
       "4    XS          515612\n",
       "5   XXL          445270\n",
       "6   XXS           82663\n",
       "7  XXXL          195092"
      ]
     },
     "execution_count": 47,
     "metadata": {},
     "output_type": "execute_result"
    }
   ],
   "source": [
    "size_TOP_sales.groupby('size').agg({'sales_in_units': 'sum'}).reset_index()"
   ]
  },
  {
   "cell_type": "code",
   "execution_count": 48,
   "metadata": {},
   "outputs": [
    {
     "data": {
      "image/png": "[encoded data removed]",
      "text/plain": [
       "<Figure size 864x432 with 1 Axes>"
      ]
     },
     "metadata": {},
     "output_type": "display_data"
    }
   ],
   "source": [
    "plt.figure(figsize=(12, 6))\n",
    "ax = sns.barplot(x='size', y='sales_in_units', \n",
    "                 data=size_TOP_sales.groupby('size').agg({'sales_in_units': 'sum'}).reset_index()\\\n",
    "                 .sort_values(by='sales_in_units', ascending=False))\n",
    "\n",
    "ax.set_title('Количества артикулов буквенных размеров (M, L, S, XL, XS, XXL, XXXL, XXS) в 95% выборке')\n",
    "ax.set(ylabel='Количество, шт.')\n",
    "ax.set(xlabel='Размеры');"
   ]
  },
  {
   "cell_type": "markdown",
   "metadata": {},
   "source": [
    "**Итоги**\n",
    "- Общая сумма продаж в рублях за июль 1,537,839,897.00 рублей\n",
    "- Общая сумма прибыли в рублях за октябрь 925,606,635.00 рублей\n",
    "- Артикул(новый), 5 место по продажам а августе - **42025327F5637500**, сумма продаж = 1,929,854.00 рублей.\n",
    "- Остаток на складе ТОП-10 артикулов по продажам (в рублях) в августе = 27455\n",
    "- Распределение объемов продаж близко к нормальному\n",
    "- Среднеквадратичное отклонение (стандарное отклонение) = 19.94\n",
    "- 95% диапазон количества проданных изделий по артикулам - от 45 до 123 штук \n",
    "- Графики приведены выше"
   ]
  }
 ],
 "metadata": {
  "kernelspec": {
   "display_name": "Python 3",
   "language": "python",
   "name": "python3"
  },
  "language_info": {
   "codemirror_mode": {
    "name": "ipython",
    "version": 3
   },
   "file_extension": ".py",
   "mimetype": "text/x-python",
   "name": "python",
   "nbconvert_exporter": "python",
   "pygments_lexer": "ipython3",
   "version": "3.7.6"
  }
 },
 "nbformat": 4,
 "nbformat_minor": 4
}
